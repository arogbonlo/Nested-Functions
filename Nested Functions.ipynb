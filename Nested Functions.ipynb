{
 "cells": [
  {
   "cell_type": "markdown",
   "metadata": {},
   "source": [
    "# A concrete example of the case for nested functions: Function scoping\n",
    "\n",
    "\n",
    "Calling a function from within another function is really useful.\n",
    "\n",
    "In cases where the calling function simply imlements a more general from of the called function,\n",
    "defining the called function within the calling function allows for cleaner more robust codebase\n",
    "and API."
   ]
  },
  {
   "cell_type": "markdown",
   "metadata": {},
   "source": [
    "## The gcd example\n",
    "Consider a function for computing the greatest common divisor of an abitrary number of integers.\n",
    "A quick online search will reveal several algos for computing the gcd of 2 ints.\n",
    "\n",
    "One implementation may involve defining a function for computing the gcd of 2 ints \"t_gcd\" and another\n",
    "\"gcd\" that successievly applies the 2 int solution on an abitrary number of ints.\n",
    "    \n",
    "    t_gcd(a, b) -> n\n",
    "    gcd(a, b, c, ..., j) -> t_gcd(...(t_gcd(t_gcd(a, b), c), ...), j) -> n\n",
    "\n",
    "It is perfectly possible and reasonable to define t_gcd and gcd seperately and call t_gcd from inside gcd.\n",
    "However, since gcd will work for 2 or more numbers, allowing t_gcd to exisit within the global scope or \n",
    "anywhere outside the scope of gcd can lead to confusion for users of the code and even the developer.\n",
    "\n",
    "Binding t_gcd within the scope of gcd means it is not possible to acess it from any where else, ergo there'd\n",
    "be one and only one way to compute greatest common divisors in the program. This will make the program easier\n",
    "to document and maintain.\n",
    "\n",
    "This is the essence of a closure. It binds the scope an object (function, variable, e.t.c) within a function\n"
   ]
  },
  {
   "cell_type": "code",
   "execution_count": 1,
   "metadata": {
    "collapsed": true
   },
   "outputs": [],
   "source": [
    "def gcd(*args):\n",
    "    \"\"\"(int, ..., int)->int\n",
    "    return the highest common factor of an abitrary\n",
    "    number of arguments \"*args\"\n",
    "    \n",
    "    Preconditon: every argument must be an integer\n",
    "    \n",
    "    >>> gcd(4, 8, 32)\n",
    "    4\n",
    "    \"\"\"\n",
    "    from functools import reduce\n",
    "    def t_gcd(a, b):\n",
    "        \"\"\"(int, int)->int\n",
    "        \n",
    "        Return the greatest common divisor of a and b\n",
    "        came up with this from thought experiments\n",
    "        while driving. Should confirm against prexisting\n",
    "        solutions.\n",
    "        \n",
    "        >>> t_gcd(6,9)\n",
    "        3\n",
    "        \"\"\"\n",
    "        assert isinstance(a, int) and isinstance(b, int), \\\n",
    "        \"Both a and b must be integers\"\n",
    "        a, b = abs(a), abs(b)\n",
    "        if a == 0 or b == 0:\n",
    "            return max(a, b)\n",
    "        else:\n",
    "            while a != b:\n",
    "                diff =  abs(a - b)\n",
    "                a, b = min(a, b), diff\n",
    "            return a\n",
    "    return reduce(t_gcd, args)\n"
   ]
  },
  {
   "cell_type": "code",
   "execution_count": 2,
   "metadata": {
    "collapsed": false
   },
   "outputs": [
    {
     "name": "stdout",
     "output_type": "stream",
     "text": [
      "4\n",
      "3\n"
     ]
    },
    {
     "ename": "NameError",
     "evalue": "name 't_gcd' is not defined",
     "output_type": "error",
     "traceback": [
      "\u001b[0;31m---------------------------------------------------------------------------\u001b[0m",
      "\u001b[0;31mNameError\u001b[0m                                 Traceback (most recent call last)",
      "\u001b[0;32m<ipython-input-2-81881fcbd046>\u001b[0m in \u001b[0;36m<module>\u001b[0;34m()\u001b[0m\n\u001b[1;32m      1\u001b[0m \u001b[0mprint\u001b[0m\u001b[0;34m(\u001b[0m\u001b[0mgcd\u001b[0m\u001b[0;34m(\u001b[0m\u001b[0;36m4\u001b[0m\u001b[0;34m,\u001b[0m \u001b[0;36m8\u001b[0m\u001b[0;34m,\u001b[0m \u001b[0;36m32\u001b[0m\u001b[0;34m)\u001b[0m\u001b[0;34m)\u001b[0m\u001b[0;34m\u001b[0m\u001b[0m\n\u001b[1;32m      2\u001b[0m \u001b[0mprint\u001b[0m\u001b[0;34m(\u001b[0m\u001b[0mgcd\u001b[0m\u001b[0;34m(\u001b[0m\u001b[0;36m6\u001b[0m\u001b[0;34m,\u001b[0m \u001b[0;36m9\u001b[0m\u001b[0;34m)\u001b[0m\u001b[0;34m)\u001b[0m\u001b[0;34m\u001b[0m\u001b[0m\n\u001b[0;32m----> 3\u001b[0;31m \u001b[0mprint\u001b[0m\u001b[0;34m(\u001b[0m\u001b[0mt_gcd\u001b[0m\u001b[0;34m(\u001b[0m\u001b[0;36m6\u001b[0m\u001b[0;34m,\u001b[0m \u001b[0;36m9\u001b[0m\u001b[0;34m)\u001b[0m\u001b[0;34m)\u001b[0m\u001b[0;34m\u001b[0m\u001b[0m\n\u001b[0m",
      "\u001b[0;31mNameError\u001b[0m: name 't_gcd' is not defined"
     ]
    }
   ],
   "source": [
    "print(gcd(4, 8, 32))\n",
    "print(gcd(6, 9))\n",
    "print(t_gcd(6, 9))"
   ]
  },
  {
   "cell_type": "markdown",
   "metadata": {},
   "source": [
    "**The verdict:**\n",
    "As you can see, gcd works perfectly for 2 or more inputs and the user cannot access t_gcd.\n",
    "\n",
    "## The C case.\n",
    "Nested fuctions are not available in standard C however GCC provides extensions to allow nested functions.\n",
    "These extentions are enabled by default.\n",
    "\n",
    "Visual studio doesnt have this capability (they dont even pretend to support C).\n",
    "You can achieve similar in C++ 11 and above using lambdas.\n"
   ]
  },
  {
   "cell_type": "code",
   "execution_count": null,
   "metadata": {
    "collapsed": true
   },
   "outputs": [],
   "source": []
  }
 ],
 "metadata": {
  "kernelspec": {
   "display_name": "Python 3",
   "language": "python",
   "name": "python3"
  },
  "language_info": {
   "codemirror_mode": {
    "name": "ipython",
    "version": 3
   },
   "file_extension": ".py",
   "mimetype": "text/x-python",
   "name": "python",
   "nbconvert_exporter": "python",
   "pygments_lexer": "ipython3",
   "version": "3.4.2"
  }
 },
 "nbformat": 4,
 "nbformat_minor": 1
}
